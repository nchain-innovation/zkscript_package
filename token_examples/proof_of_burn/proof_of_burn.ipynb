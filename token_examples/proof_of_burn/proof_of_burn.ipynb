{
 "cells": [
  {
   "cell_type": "markdown",
   "metadata": {},
   "source": [
    "# Proof of burn"
   ]
  },
  {
   "cell_type": "code",
   "execution_count": null,
   "metadata": {},
   "outputs": [],
   "source": [
    "%pip install ecdsa"
   ]
  },
  {
   "cell_type": "code",
   "execution_count": 1,
   "metadata": {},
   "outputs": [],
   "source": [
    "import sys\n",
    "from pathlib import Path\n",
    "\n",
    "sys.path.append(str(Path().resolve().parent.parent))\n",
    "\n",
    "from elliptic_curves.instantiations.mnt4_753.mnt4_753 import MNT4_753\n",
    "from tx_engine import Script, Tx, TxOut, Wallet\n",
    "\n",
    "from token_examples.proof_of_burn.utils import generate_pob_utxo, load_and_process_vk, spend_proof_of_burn\n",
    "from token_examples.tx_engine_utils import (\n",
    "    p2pkh,\n",
    "    setup_network_connection,\n",
    "    spend_p2pkh,\n",
    "    tx_from_id,\n",
    "    tx_to_input,\n",
    "    update_tx_balance,\n",
    ")\n",
    "\n",
    "ScalarFieldMNT4 = MNT4_753.scalar_field"
   ]
  },
  {
   "cell_type": "markdown",
   "metadata": {},
   "source": [
    "## Set up the proving/verifying keys\n",
    "\n",
    "The first thing you need to do is to set up a proving/verifying key pair for `burn_proof_system`. Head to `./tcp_proof_system` and execute the following command\n",
    "```bash\n",
    "cargo run --release -- --file ./configs/config_base/setup.toml --setup\n",
    "```\n",
    "\n",
    "Then, when the execution is complete, head to `./burn_proof_system` and execute the following command\n",
    "```bash\n",
    "cargo run --release -- setup\n",
    "```"
   ]
  },
  {
   "cell_type": "markdown",
   "metadata": {},
   "source": [
    "## Set up the public keys\n",
    "\n",
    "If you already have a couple of keys, you can plug them in the cells below (in hex format). Otherwise, you can generate them with the following command:\n",
    "\n",
    "```python\n",
    "Wallet.generate_keypair(\"BSV_Testnet\").to_hex()\n",
    "```"
   ]
  },
  {
   "cell_type": "code",
   "execution_count": null,
   "metadata": {},
   "outputs": [],
   "source": [
    "# Connection to the blockchain\n",
    "connection = setup_network_connection(\"testnet\")"
   ]
  },
  {
   "cell_type": "code",
   "execution_count": null,
   "metadata": {},
   "outputs": [
    {
     "data": {
      "text/plain": [
       "'mvHjYDkkiuHfthPpu5TJ5GBaGFD96e3zMJ'"
      ]
     },
     "execution_count": 30,
     "metadata": {},
     "output_type": "execute_result"
    }
   ],
   "source": [
    "# The public key of the token holder\n",
    "token_pub_key = Wallet.from_hexstr(\"BSV_Testnet\", \"\")\n",
    "token_pub_key.get_address()"
   ]
  },
  {
   "cell_type": "code",
   "execution_count": null,
   "metadata": {},
   "outputs": [
    {
     "data": {
      "text/plain": [
       "'mzNS1UFvupWoq5zffQZ5AFPznSbCc28tuZ'"
      ]
     },
     "execution_count": 31,
     "metadata": {},
     "output_type": "execute_result"
    }
   ],
   "source": [
    "# The public key of the token holder\n",
    "issuer_pub_key = Wallet.from_hexstr(\"BSV_Testnet\", \"\")\n",
    "issuer_pub_key.get_address()"
   ]
  },
  {
   "cell_type": "markdown",
   "metadata": {},
   "source": [
    "## Get funding\n",
    "\n",
    "Head over to your favourite faucet, e.g., [sCrypt Faucet](https://scrypt.io/faucet), and get fundings for the two public keys set up above. Paste the transaction ids of the funding transactions in the cell below."
   ]
  },
  {
   "cell_type": "code",
   "execution_count": null,
   "metadata": {},
   "outputs": [],
   "source": [
    "genesis_tx = tx_from_id(\"\", connection)\n",
    "issuer_funds = tx_from_id(\"\", connection)"
   ]
  },
  {
   "cell_type": "markdown",
   "metadata": {},
   "source": [
    "## Generate proof-of-burn UTXO\n",
    "\n",
    "We now generate the UTXO that will prove a children of `genesis_tx` has been burnt. You don't need to to anything at this point, simply execute the following cells."
   ]
  },
  {
   "cell_type": "code",
   "execution_count": 33,
   "metadata": {},
   "outputs": [],
   "source": [
    "genesis_txid_as_input = ScalarFieldMNT4(int.from_bytes(genesis_tx.hash(), \"little\"))\n",
    "vk, cache_vk, prepared_vk = load_and_process_vk(genesis_txid=genesis_txid_as_input.to_int())"
   ]
  },
  {
   "cell_type": "code",
   "execution_count": 34,
   "metadata": {},
   "outputs": [],
   "source": [
    "proof_of_burn_utxo, change_utxo = generate_pob_utxo(\n",
    "    vk=vk, prepared_vk=prepared_vk, issuer_funds=issuer_funds, issuer_pub_key=issuer_pub_key\n",
    ")"
   ]
  },
  {
   "cell_type": "code",
   "execution_count": 35,
   "metadata": {},
   "outputs": [],
   "source": [
    "proof_of_burn_tx, response = spend_p2pkh(\n",
    "    txs=[issuer_funds],\n",
    "    indices=[0],\n",
    "    outputs=[proof_of_burn_utxo, change_utxo],\n",
    "    index_output=1,\n",
    "    public_keys=[issuer_pub_key],\n",
    "    fee_rate=10,\n",
    "    network=connection,\n",
    ")\n",
    "\n",
    "assert response.status_code == 200, f\"Failed to create proof of burn tx, error is {response.content}\""
   ]
  },
  {
   "cell_type": "code",
   "execution_count": 36,
   "metadata": {},
   "outputs": [
    {
     "data": {
      "text/plain": [
       "'12d1a59398cee68a10238e887c73b5c7579f0202ea2f866206d095864e60f5e7'"
      ]
     },
     "execution_count": 36,
     "metadata": {},
     "output_type": "execute_result"
    }
   ],
   "source": [
    "proof_of_burn_tx.id()"
   ]
  },
  {
   "cell_type": "markdown",
   "metadata": {},
   "source": [
    "## Move the token two times\n",
    "\n",
    "We now move the token a couple of times. To move the token, it is enough that you execute the following cells. However, to be able to generate the proof required to spend the proof-of-burn UTXO, you will need to generate a proof every time you move the token.\n",
    "\n",
    "First of all, head to `./tcp_proof_system` and paste `genesis_txid` in `configs/config_base/prove.toml` both as `genesis_txid` and `outpoint_txid`. Then, execute the following command (from the root of `tcp_proof_system`):\n",
    "```bash\n",
    "cargo run --release -- --file ./configs/config_base/prove.toml --prove\n",
    "```\n",
    "\n",
    "Then, you execute the following cell to transfer the token for the first time."
   ]
  },
  {
   "cell_type": "code",
   "execution_count": 37,
   "metadata": {},
   "outputs": [],
   "source": [
    "token_tx_1, response = spend_p2pkh(\n",
    "    txs=[genesis_tx],\n",
    "    indices=[0],\n",
    "    outputs=[p2pkh(token_pub_key, genesis_tx.tx_outs[0].amount)],\n",
    "    index_output=0,\n",
    "    public_keys=[token_pub_key],\n",
    "    fee_rate=10,\n",
    "    network=connection,\n",
    ")\n",
    "\n",
    "assert response.status_code == 200, f\"Token transfer failed, error is: {response.content}\""
   ]
  },
  {
   "cell_type": "code",
   "execution_count": 38,
   "metadata": {},
   "outputs": [
    {
     "data": {
      "text/plain": [
       "'01000000017ed3c58428664807f6addc1992f6f50d741f92fa7efd092bf63172a931b11f05000000006b483045022100ac6b7954ec9791af4e1fd75508c76f6f792045350b1656b7ff22a374fda2721b02204ff73c3fa211afb6074fd8e6890c658672f47f56f8d29023d86c1f74fd8f3b284121034956aa2c326c774e85be9338941b0e9adc7815724126a918b01eae57d3715fc700000000013e860100000000001976a914a209d4cf940036062f833f96674a66cddce8a48288ac00000000'"
      ]
     },
     "execution_count": 38,
     "metadata": {},
     "output_type": "execute_result"
    }
   ],
   "source": [
    "token_tx_1.serialize().hex()"
   ]
  },
  {
   "cell_type": "code",
   "execution_count": 39,
   "metadata": {},
   "outputs": [
    {
     "data": {
      "text/plain": [
       "'480679872c0f7c0d1144f21216c58407120bad0cfbd65665b9e2abfec0111378'"
      ]
     },
     "execution_count": 39,
     "metadata": {},
     "output_type": "execute_result"
    }
   ],
   "source": [
    "token_tx_1.id()"
   ]
  },
  {
   "cell_type": "markdown",
   "metadata": {},
   "source": [
    "Now we generate the proof of the above transfer. Head to `./tcp_prof_system` and paste:\n",
    "- `genesis_txid` in the respective field of `configs/config_rec_1/prove.toml`\n",
    "- the txid of `token_tx_1` in the field `outpoint_txid` of the same file\n",
    "- the serialisation of `token_tx_1` in the field `tx` of the same file\n",
    "\n",
    "After having done so, execute the following command (from the root of `tcp_proof_system`):\n",
    "```bash\n",
    "cargo run --release -- --file ./configs/config_rec_1/prove.toml --prove\n",
    "```"
   ]
  },
  {
   "cell_type": "code",
   "execution_count": 40,
   "metadata": {},
   "outputs": [],
   "source": [
    "token_tx_2, response = spend_p2pkh(\n",
    "    txs=[token_tx_1],\n",
    "    indices=[0],\n",
    "    outputs=[p2pkh(token_pub_key, token_tx_1.tx_outs[0].amount)],\n",
    "    index_output=0,\n",
    "    public_keys=[token_pub_key],\n",
    "    fee_rate=10,\n",
    "    network=connection,\n",
    ")\n",
    "\n",
    "assert response.status_code == 200, f\"Token transfer failed, error is: {response.content}\""
   ]
  },
  {
   "cell_type": "code",
   "execution_count": 41,
   "metadata": {},
   "outputs": [
    {
     "data": {
      "text/plain": [
       "'0100000001781311c0feabe2b96556d6fb0cad0b120784c51612f244110d7c0f2c87790648000000006b483045022100deb2dbc247883f7f0bf39c98e36d22ac4039741568bf8ecafc7137152a9ed82a02201c027f30afca9d3b96814b42d3b3f82ebce43622c48f25f1bec5aeac52f4882d4121034956aa2c326c774e85be9338941b0e9adc7815724126a918b01eae57d3715fc700000000013c860100000000001976a914a209d4cf940036062f833f96674a66cddce8a48288ac00000000'"
      ]
     },
     "execution_count": 41,
     "metadata": {},
     "output_type": "execute_result"
    }
   ],
   "source": [
    "token_tx_2.serialize().hex()"
   ]
  },
  {
   "cell_type": "code",
   "execution_count": 42,
   "metadata": {},
   "outputs": [
    {
     "data": {
      "text/plain": [
       "'45ad468cfaf3f7d3d2b8efbabf7d71f0a6a1611686215351aded41029594fd40'"
      ]
     },
     "execution_count": 42,
     "metadata": {},
     "output_type": "execute_result"
    }
   ],
   "source": [
    "token_tx_2.id()"
   ]
  },
  {
   "cell_type": "markdown",
   "metadata": {},
   "source": [
    "Once again, we need to generate the proof of the above transfer. Head to `./tcp_prof_system` and paste:\n",
    "- `genesis_txid` in the respective field of `configs/config_rec_2/prove.toml`\n",
    "- the txid of `token_tx_2` in the field `outpoint_txid` of the same file\n",
    "- the serialisation of `token_tx_2` in the field `tx` of the same file\n",
    "\n",
    "After having done so, execute the following command (from the root of `tcp_proof_system`):\n",
    "```bash\n",
    "cargo run --release -- --file ./configs/config_rec_2/prove.toml --prove\n",
    "```"
   ]
  },
  {
   "cell_type": "markdown",
   "metadata": {},
   "source": [
    "## Burning transaction\n",
    "\n",
    "We are now going to burn the child of `genesis_tx` held in `token_tx_2`. First of all, we prepare the structure of the burning transaction (3 inputs, 2 ouputs). No unlocking scripts are required at this point."
   ]
  },
  {
   "cell_type": "code",
   "execution_count": 43,
   "metadata": {},
   "outputs": [],
   "source": [
    "inputs = [\n",
    "    tx_to_input(token_tx_2, 0, Script()),\n",
    "    tx_to_input(proof_of_burn_tx, 0, Script()),\n",
    "    tx_to_input(proof_of_burn_tx, 1, Script()),\n",
    "]\n",
    "\n",
    "outputs = [\n",
    "    TxOut(amount=0, script_pubkey=Script.parse_string(\"OP_0 OP_RETURN\")),\n",
    "    p2pkh(issuer_pub_key, amount=proof_of_burn_tx.tx_outs[1].amount + token_tx_2.tx_outs[0].amount),\n",
    "]\n",
    "\n",
    "spending_tx = Tx(\n",
    "    version=1,\n",
    "    tx_ins=inputs,\n",
    "    tx_outs=outputs,\n",
    "    locktime=0,\n",
    ")\n",
    "\n",
    "# Fee rate chosen to get 10 sat/KB after adding the unlocking script\n",
    "spending_tx = update_tx_balance(spending_tx, 1, (178 + 300000) // 178 * 10)"
   ]
  },
  {
   "cell_type": "code",
   "execution_count": 44,
   "metadata": {},
   "outputs": [
    {
     "data": {
      "text/plain": [
       "'010000000340fd94950241edad515321861661a1a6f0717dbfbaefb8d2d3f7f3fa8c46ad45000000000000000000e7f5604e8695d00662862fea02029f57c7b5737c888e23108ae6ce9893a5d112000000000000000000e7f5604e8695d00662862fea02029f57c7b5737c888e23108ae6ce9893a5d11201000000000000000002000000000000000002006aecef0200000000001976a914cecdc7e19ac9b16e6d9a1a5c5195a97914dc430e88ac00000000'"
      ]
     },
     "execution_count": 44,
     "metadata": {},
     "output_type": "execute_result"
    }
   ],
   "source": [
    "spending_tx.serialize().hex()"
   ]
  },
  {
   "cell_type": "markdown",
   "metadata": {},
   "source": [
    "Now, head to `./burn_proof_system` and paste:\n",
    "- `genesis_txid` in the respective field of `data/proving_data.toml`\n",
    "- the serialisation of `spending_tx` in the respective field of the same file\n",
    "\n",
    "Then, execute the following command (from the root of `./burn_proof_system`)\n",
    "```bash\n",
    "cargo run --release -- prove\n",
    "```\n",
    "\n",
    "When the execution is completed, you can execute the following cell to publish `spending_tx` and burn the child of `genesis_txid`."
   ]
  },
  {
   "cell_type": "code",
   "execution_count": 45,
   "metadata": {},
   "outputs": [],
   "source": [
    "# Spend Proof-of-Burn UTXO\n",
    "spending_tx, response = spend_proof_of_burn(\n",
    "    outputs=spending_tx.tx_outs,\n",
    "    cache_vk=cache_vk,\n",
    "    token_tx=token_tx_2,\n",
    "    pob_tx=proof_of_burn_tx,\n",
    "    token_pub_key=token_pub_key,\n",
    "    pob_pub_key=issuer_pub_key,\n",
    "    network=connection,\n",
    ")\n",
    "\n",
    "assert response.status_code == 200, f\"Spending of PoB failed, error is: {response.content}\""
   ]
  },
  {
   "cell_type": "code",
   "execution_count": 46,
   "metadata": {},
   "outputs": [
    {
     "data": {
      "text/plain": [
       "'461fefe5f5b70746e5c477db3c57dbb6050c7e4842d3120e88c1077b19e1bdbc'"
      ]
     },
     "execution_count": 46,
     "metadata": {},
     "output_type": "execute_result"
    }
   ],
   "source": [
    "spending_tx.id()"
   ]
  },
  {
   "cell_type": "code",
   "execution_count": null,
   "metadata": {},
   "outputs": [],
   "source": []
  }
 ],
 "metadata": {
  "kernelspec": {
   "display_name": "github_venv",
   "language": "python",
   "name": "python3"
  },
  "language_info": {
   "codemirror_mode": {
    "name": "ipython",
    "version": 3
   },
   "file_extension": ".py",
   "mimetype": "text/x-python",
   "name": "python",
   "nbconvert_exporter": "python",
   "pygments_lexer": "ipython3",
   "version": "3.13.2"
  }
 },
 "nbformat": 4,
 "nbformat_minor": 2
}
