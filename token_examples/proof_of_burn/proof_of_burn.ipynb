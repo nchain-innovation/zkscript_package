{
 "cells": [
  {
   "cell_type": "markdown",
   "metadata": {},
   "source": [
    "# Proof of burn"
   ]
  },
  {
   "cell_type": "code",
   "execution_count": null,
   "metadata": {},
   "outputs": [],
   "source": [
    "%pip install ecdsa"
   ]
  },
  {
   "cell_type": "code",
   "execution_count": null,
   "metadata": {},
   "outputs": [],
   "source": [
    "import sys\n",
    "from pathlib import Path\n",
    "\n",
    "sys.path.append(str(Path().resolve().parent.parent))\n",
    "\n",
    "from elliptic_curves.instantiations.mnt4_753.mnt4_753 import MNT4_753\n",
    "from tx_engine import Script, Tx, TxOut, Wallet\n",
    "\n",
    "from token_examples.proof_of_burn.utils import generate_pob_utxo, load_and_process_vk, spend_proof_of_burn\n",
    "from token_examples.tx_engine_utils import (\n",
    "    p2pkh,\n",
    "    setup_network_connection,\n",
    "    spend_p2pkh,\n",
    "    tx_from_id,\n",
    "    tx_to_input,\n",
    "    update_tx_balance,\n",
    ")\n",
    "\n",
    "ScalarFieldMNT4 = MNT4_753.scalar_field"
   ]
  },
  {
   "cell_type": "code",
   "execution_count": 3,
   "metadata": {},
   "outputs": [],
   "source": [
    "# Connection to the blockchain\n",
    "connection = setup_network_connection(\"testnet\")"
   ]
  },
  {
   "cell_type": "code",
   "execution_count": null,
   "metadata": {},
   "outputs": [
    {
     "data": {
      "text/plain": [
       "'mhtNYK9vjPZuKiXibmUpRzwebJi4sW89GS'"
      ]
     },
     "execution_count": 19,
     "metadata": {},
     "output_type": "execute_result"
    }
   ],
   "source": [
    "# The public key of the token holder\n",
    "token_pub_key = Wallet.from_hexstr(\"BSV_Testnet\", \"\")\n",
    "token_pub_key.get_address()"
   ]
  },
  {
   "cell_type": "code",
   "execution_count": null,
   "metadata": {},
   "outputs": [
    {
     "data": {
      "text/plain": [
       "'mySeWDWTQkZRroRoEghhq8FEuvBV8p5pLb'"
      ]
     },
     "execution_count": 20,
     "metadata": {},
     "output_type": "execute_result"
    }
   ],
   "source": [
    "# The public key of the token holder\n",
    "issuer_pub_key = Wallet.from_hexstr(\"BSV_Testnet\", \"\")\n",
    "issuer_pub_key.get_address()"
   ]
  },
  {
   "cell_type": "code",
   "execution_count": null,
   "metadata": {},
   "outputs": [],
   "source": [
    "genesis_tx = tx_from_id(\"\", connection)\n",
    "issuer_funds = tx_from_id(\"\", connection)"
   ]
  },
  {
   "cell_type": "markdown",
   "metadata": {},
   "source": [
    "## Generate proof-of-burn UTXO"
   ]
  },
  {
   "cell_type": "code",
   "execution_count": 37,
   "metadata": {},
   "outputs": [],
   "source": [
    "genesis_txid_as_input = ScalarFieldMNT4(int.from_bytes(genesis_tx.hash(), \"little\"))\n",
    "vk, cache_vk, prepared_vk = load_and_process_vk(genesis_txid=genesis_txid_as_input.to_int())"
   ]
  },
  {
   "cell_type": "code",
   "execution_count": 38,
   "metadata": {},
   "outputs": [],
   "source": [
    "proof_of_burn_utxo, change_utxo = generate_pob_utxo(\n",
    "    vk=vk, prepared_vk=prepared_vk, issuer_funds=issuer_funds, issuer_pub_key=issuer_pub_key\n",
    ")"
   ]
  },
  {
   "cell_type": "code",
   "execution_count": 39,
   "metadata": {},
   "outputs": [],
   "source": [
    "proof_of_burn_tx, response = spend_p2pkh(\n",
    "    txs=[issuer_funds],\n",
    "    indices=[0],\n",
    "    outputs=[proof_of_burn_utxo, change_utxo],\n",
    "    index_output=1,\n",
    "    public_keys=[issuer_pub_key],\n",
    "    fee_rate=10,\n",
    "    network=connection,\n",
    ")\n",
    "\n",
    "assert response.status_code == 200, f\"Failed to create proof of burn tx, error is {response.content}\""
   ]
  },
  {
   "cell_type": "code",
   "execution_count": 40,
   "metadata": {},
   "outputs": [
    {
     "data": {
      "text/plain": [
       "'3718ad6c4abda6fa56490dce528dbcae8f8b467ec07f2b07c41481e225f53e37'"
      ]
     },
     "execution_count": 40,
     "metadata": {},
     "output_type": "execute_result"
    }
   ],
   "source": [
    "proof_of_burn_tx.id()"
   ]
  },
  {
   "cell_type": "markdown",
   "metadata": {},
   "source": [
    "## Move the token two times"
   ]
  },
  {
   "cell_type": "code",
   "execution_count": 41,
   "metadata": {},
   "outputs": [],
   "source": [
    "token_tx_1, response = spend_p2pkh(\n",
    "    txs=[genesis_tx],\n",
    "    indices=[0],\n",
    "    outputs=[p2pkh(token_pub_key, genesis_tx.tx_outs[0].amount)],\n",
    "    index_output=0,\n",
    "    public_keys=[token_pub_key],\n",
    "    fee_rate=10,\n",
    "    network=connection,\n",
    ")\n",
    "\n",
    "assert response.status_code == 200, f\"Token transfer failed, error is: {response.content}\""
   ]
  },
  {
   "cell_type": "code",
   "execution_count": 42,
   "metadata": {},
   "outputs": [
    {
     "data": {
      "text/plain": [
       "'0100000001a4eeb83545a18d17da630c6722b6f1150bf43ded1a1df1a8466887c2daa1cb10000000006b483045022100e181d2380d21ad92a0f88bc8dd47f49998fd02ffc82dcf69fc34fcb1a54f378c0220277d77e64d83a7463b595d9c2cd0fbd22ede4aac131a512674aebfc4d9286d4741210255f37269612cfafd64256a16dbd8f6fb1cb550f1e415c9c0d24ba9021f7ff18000000000013e860100000000001976a91419fd39e77e7c28969a5f37b180dfad76c807097b88ac00000000'"
      ]
     },
     "execution_count": 42,
     "metadata": {},
     "output_type": "execute_result"
    }
   ],
   "source": [
    "token_tx_1.serialize().hex()"
   ]
  },
  {
   "cell_type": "code",
   "execution_count": 43,
   "metadata": {},
   "outputs": [
    {
     "data": {
      "text/plain": [
       "'3e8150d2bc7aedc9f360f40f5b94821dde376658c82f0831c8e78fbee5d3b457'"
      ]
     },
     "execution_count": 43,
     "metadata": {},
     "output_type": "execute_result"
    }
   ],
   "source": [
    "token_tx_1.id()"
   ]
  },
  {
   "cell_type": "code",
   "execution_count": 44,
   "metadata": {},
   "outputs": [],
   "source": [
    "token_tx_2, response = spend_p2pkh(\n",
    "    txs=[token_tx_1],\n",
    "    indices=[0],\n",
    "    outputs=[p2pkh(token_pub_key, token_tx_1.tx_outs[0].amount)],\n",
    "    index_output=0,\n",
    "    public_keys=[token_pub_key],\n",
    "    fee_rate=10,\n",
    "    network=connection,\n",
    ")\n",
    "\n",
    "assert response.status_code == 200, f\"Token transfer failed, error is: {response.content}\""
   ]
  },
  {
   "cell_type": "code",
   "execution_count": 45,
   "metadata": {},
   "outputs": [
    {
     "data": {
      "text/plain": [
       "'010000000157b4d3e5be8fe7c831082fc8586637de1d82945b0ff460f3c9ed7abcd250813e000000006b48304502210093b900291c7c588544029118bb95dd5a4dd3c365c2cb3b3ca1c17ff9b145e4e7022027f802f68eaf43f30d530f79ad2235bde4dd6d36840feba284a836ce4bf5559e41210255f37269612cfafd64256a16dbd8f6fb1cb550f1e415c9c0d24ba9021f7ff18000000000013c860100000000001976a91419fd39e77e7c28969a5f37b180dfad76c807097b88ac00000000'"
      ]
     },
     "execution_count": 45,
     "metadata": {},
     "output_type": "execute_result"
    }
   ],
   "source": [
    "token_tx_2.serialize().hex()"
   ]
  },
  {
   "cell_type": "code",
   "execution_count": 46,
   "metadata": {},
   "outputs": [
    {
     "data": {
      "text/plain": [
       "'030d5226a05135c51b702a2043064cd0b37c1b6422d871e3dc69e668d4ed0e70'"
      ]
     },
     "execution_count": 46,
     "metadata": {},
     "output_type": "execute_result"
    }
   ],
   "source": [
    "token_tx_2.id()"
   ]
  },
  {
   "cell_type": "markdown",
   "metadata": {},
   "source": [
    "## Burning transaction"
   ]
  },
  {
   "cell_type": "code",
   "execution_count": 47,
   "metadata": {},
   "outputs": [],
   "source": [
    "inputs = [\n",
    "    tx_to_input(token_tx_2, 0, Script()),\n",
    "    tx_to_input(proof_of_burn_tx, 0, Script()),\n",
    "    tx_to_input(proof_of_burn_tx, 1, Script()),\n",
    "]\n",
    "\n",
    "outputs = [\n",
    "    TxOut(amount=0, script_pubkey=Script.parse_string(\"OP_0 OP_RETURN\")),\n",
    "    p2pkh(issuer_pub_key, amount=proof_of_burn_tx.tx_outs[1].amount + token_tx_2.tx_outs[0].amount),\n",
    "]\n",
    "\n",
    "spending_tx = Tx(\n",
    "    version=1,\n",
    "    tx_ins=inputs,\n",
    "    tx_outs=outputs,\n",
    "    locktime=0,\n",
    ")\n",
    "\n",
    "# Fee rate chosen to get 10 sat/KB after adding the unlocking script\n",
    "spending_tx = update_tx_balance(spending_tx, 1, (178 + 300000) // 178 * 10)"
   ]
  },
  {
   "cell_type": "code",
   "execution_count": 48,
   "metadata": {},
   "outputs": [
    {
     "data": {
      "text/plain": [
       "'0100000003700eedd468e669dce371d822641b7cb3d04c0643202a701bc53551a026520d03000000000000000000373ef525e28114c4072b7fc07e468b8faebc8d52ce0d4956faa6bd4a6cad1837000000000000000000373ef525e28114c4072b7fc07e468b8faebc8d52ce0d4956faa6bd4a6cad183701000000000000000002000000000000000002006aecef0200000000001976a914c4a1bfe9fc4e17cffea66f92820068b45a546b8988ac00000000'"
      ]
     },
     "execution_count": 48,
     "metadata": {},
     "output_type": "execute_result"
    }
   ],
   "source": [
    "spending_tx.serialize().hex()"
   ]
  },
  {
   "cell_type": "code",
   "execution_count": 49,
   "metadata": {},
   "outputs": [],
   "source": [
    "# Spend Proof-of-Burn UTXO\n",
    "spending_tx, response = spend_proof_of_burn(\n",
    "    outputs=spending_tx.tx_outs,\n",
    "    cache_vk=cache_vk,\n",
    "    token_tx=token_tx_2,\n",
    "    pob_tx=proof_of_burn_tx,\n",
    "    token_pub_key=token_pub_key,\n",
    "    pob_pub_key=issuer_pub_key,\n",
    "    network=connection,\n",
    ")\n",
    "\n",
    "assert response.status_code == 200, f\"Spending of PoB failed, error is: {response.content}\""
   ]
  },
  {
   "cell_type": "code",
   "execution_count": 50,
   "metadata": {},
   "outputs": [
    {
     "data": {
      "text/plain": [
       "'5fff4a7a953b5819ac2ab4b35dd9d9b9a18d18e40a3d87917fbb0a7a930b90ea'"
      ]
     },
     "execution_count": 50,
     "metadata": {},
     "output_type": "execute_result"
    }
   ],
   "source": [
    "spending_tx.id()"
   ]
  },
  {
   "cell_type": "code",
   "execution_count": null,
   "metadata": {},
   "outputs": [],
   "source": []
  }
 ],
 "metadata": {
  "kernelspec": {
   "display_name": "github_venv",
   "language": "python",
   "name": "python3"
  },
  "language_info": {
   "codemirror_mode": {
    "name": "ipython",
    "version": 3
   },
   "file_extension": ".py",
   "mimetype": "text/x-python",
   "name": "python",
   "nbconvert_exporter": "python",
   "pygments_lexer": "ipython3",
   "version": "3.13.2"
  }
 },
 "nbformat": 4,
 "nbformat_minor": 2
}
