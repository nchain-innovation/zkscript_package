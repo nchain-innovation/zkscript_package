{
 "cells": [
  {
   "cell_type": "markdown",
   "id": "d8787a90-a4ac-48a5-8943-c00fb255bee4",
   "metadata": {},
   "source": [
    "# Broadcast NFT on-chain"
   ]
  },
  {
   "cell_type": "code",
   "execution_count": 1,
   "id": "2ee40a7c-532a-4aad-9f5a-f5a102485080",
   "metadata": {},
   "outputs": [
    {
     "name": "stdout",
     "output_type": "stream",
     "text": [
      "Collecting ecdsa\n",
      "  Downloading ecdsa-0.19.1-py2.py3-none-any.whl.metadata (29 kB)\n",
      "Requirement already satisfied: six>=1.9.0 in /opt/homebrew/Cellar/jupyterlab/4.3.5/libexec/lib/python3.13/site-packages (from ecdsa) (1.17.0)\n",
      "Downloading ecdsa-0.19.1-py2.py3-none-any.whl (150 kB)\n",
      "Installing collected packages: ecdsa\n",
      "Successfully installed ecdsa-0.19.1\n",
      "\n",
      "\u001b[1m[\u001b[0m\u001b[34;49mnotice\u001b[0m\u001b[1;39;49m]\u001b[0m\u001b[39;49m A new release of pip is available: \u001b[0m\u001b[31;49m25.0\u001b[0m\u001b[39;49m -> \u001b[0m\u001b[32;49m25.0.1\u001b[0m\n",
      "\u001b[1m[\u001b[0m\u001b[34;49mnotice\u001b[0m\u001b[1;39;49m]\u001b[0m\u001b[39;49m To update, run: \u001b[0m\u001b[32;49m/opt/homebrew/Cellar/jupyterlab/4.3.5/libexec/bin/python -m pip install --upgrade pip\u001b[0m\n",
      "Note: you may need to restart the kernel to use updated packages.\n"
     ]
    }
   ],
   "source": [
    "pip install ecdsa"
   ]
  },
  {
   "cell_type": "code",
   "execution_count": 1,
   "id": "f28149f1-7b49-4bba-94d3-5b6f51432266",
   "metadata": {},
   "outputs": [],
   "source": [
    "from tx_engine import Wallet\n",
    "\n",
    "from tcp_utils import execute_swap, spend_zkp_to_output, p2pk_to_groth16\n",
    "from tx_engine_utils import setup_network_connection, tx_from_id, p2pk, spend_p2pkh"
   ]
  },
  {
   "cell_type": "markdown",
   "id": "a117e5ef",
   "metadata": {},
   "source": [
    "# Setup\n",
    "\n",
    "To run the notebook, you need to setup a proving/verifying key pair. To do so, execute the following command from inside the folder `../nft_proof_system`:\n",
    "\n",
    "`cargo run --release -- --setup --file ./configs/config_base/setup.toml`\n",
    "\n",
    "This will generate a proving/verifying key pair for transaction chains at index `0`. See also the README of `nft_proof_systems` for more information."
   ]
  },
  {
   "cell_type": "markdown",
   "id": "ff6dda7b-5222-4720-ab79-dd6bd314e429",
   "metadata": {},
   "source": [
    "# Initiate blockchain deployment"
   ]
  },
  {
   "cell_type": "code",
   "execution_count": null,
   "id": "990074c9-8b02-4cac-9da3-2b64e993ea56",
   "metadata": {},
   "outputs": [],
   "source": [
    "connection = setup_network_connection(\"testnet\")"
   ]
  },
  {
   "cell_type": "markdown",
   "id": "d511844f",
   "metadata": {},
   "source": [
    "If you have some public keys, you can use them below. Otherwise, generate new ones using the command\n",
    "\n",
    "```python\n",
    "pub_key = Wallet.generate_keypair(\"BSV_Testnet\")\n",
    "```"
   ]
  },
  {
   "cell_type": "code",
   "execution_count": null,
   "id": "c1111dd6-9bcf-46c1-9ac8-4fb21d2e873a",
   "metadata": {},
   "outputs": [],
   "source": [
    "# The public key initial holding the BSV\n",
    "bsv_pub_key = Wallet.from_hexstr(\"BSV_Testnet\",\"\")\n",
    "bsv_pub_key.get_address()"
   ]
  },
  {
   "cell_type": "code",
   "execution_count": null,
   "id": "cb37f2b6-07f5-4157-9cac-425a2e586db3",
   "metadata": {},
   "outputs": [],
   "source": [
    "# The public key initially holding the token\n",
    "token_pub_key = Wallet.from_hexstr(\"BSV_Testnet\",\"\")\n",
    "token_pub_key.get_address()"
   ]
  },
  {
   "cell_type": "code",
   "execution_count": null,
   "id": "41b1ef74-6751-4d8f-8b67-a4891051c43e",
   "metadata": {},
   "outputs": [],
   "source": [
    "# Directories where we fetch the data\n",
    "vk_path = \"../nft_proof_system/data/keys/help_vk.bin\"\n",
    "proof_path = \"../nft_proof_system/data/proofs/\"\n",
    "processed_input_path = \"../nft_proof_system/data/proofs/\""
   ]
  },
  {
   "cell_type": "markdown",
   "id": "242d5a78-21c2-4ded-af46-785156029366",
   "metadata": {},
   "source": [
    "#### Turn funding into p2pk\n",
    "\n",
    "First of all, we need to get some funding. You can use a Faucet as [scrypt.io/faucet](https://scrypt.io/faucet). Then, we need to turn the funding into p2pk because our zkps assume the UTXOs are locked with this type of locking script.\n",
    "\n",
    "Get two funding UTXO for `token_pub_key` and two for `bsv_pub_key`. Then, paste their txids below (in the cell below the one for `token_pub_key`, later on the ones for `bsv_pub_key`)."
   ]
  },
  {
   "cell_type": "code",
   "execution_count": null,
   "id": "eb1f3b40-409b-476a-9fd5-3409090d4291",
   "metadata": {},
   "outputs": [],
   "source": [
    "token_funding_tx = [\n",
    "    tx_from_id(txid, connection) for txid in [\n",
    "    \"\",\n",
    "    \"\",\n",
    "    ]\n",
    "]\n",
    "\n",
    "token_funding_ixs = [0,0]"
   ]
  },
  {
   "cell_type": "code",
   "execution_count": null,
   "id": "9c0982f5-9f8c-4d30-bb37-151539eb2aba",
   "metadata": {},
   "outputs": [],
   "source": [
    "# Generate genesis token and send funds to bsv_pub_key\n",
    "amount = sum([tx.tx_outs[index].amount for (tx, index) in zip(token_funding_tx, token_funding_ixs)])\n",
    "\n",
    "outputs = [\n",
    "    p2pk(token_pub_key,0),\n",
    "    p2pk(bsv_pub_key,amount)\n",
    "]\n",
    "\n",
    "genesis_tx, response = spend_p2pkh(\n",
    "    txs=token_funding_tx,\n",
    "    indices=token_funding_ixs,\n",
    "    outputs=outputs,\n",
    "    index_output=1,\n",
    "    public_keys=[token_pub_key]*len(token_funding_tx),\n",
    "    fee_rate=10,\n",
    "    network=connection\n",
    ")"
   ]
  },
  {
   "cell_type": "code",
   "execution_count": null,
   "id": "479ad93f-ee75-4752-919a-a069dd1edc73",
   "metadata": {},
   "outputs": [],
   "source": [
    "print(f\"Genesis txid: {genesis_tx.id()}\")"
   ]
  },
  {
   "cell_type": "code",
   "execution_count": null,
   "id": "be5dbb13-4bf6-4a74-b91f-1b4f8b78aab1",
   "metadata": {},
   "outputs": [],
   "source": [
    "bsv_funding_tx = [\n",
    "    tx_from_id(txid, connection) for txid in [\n",
    "        \"\",\n",
    "        \"\",\n",
    "    ]\n",
    "]\n",
    "\n",
    "bsv_funding_ixs = [0,0]"
   ]
  },
  {
   "cell_type": "code",
   "execution_count": null,
   "id": "0eae5d2f-ef4d-4765-992a-d00f3f1fe9d4",
   "metadata": {},
   "outputs": [],
   "source": [
    "# Redistribute the funds allocated to bsv_pub_key\n",
    "amount = sum([tx.tx_outs[index].amount for (tx, index) in zip(bsv_funding_tx, bsv_funding_ixs)])\n",
    "\n",
    "outputs = [\n",
    "    p2pk(bsv_pub_key,amount//2),\n",
    "    p2pk(token_pub_key,amount//2),\n",
    "]\n",
    "\n",
    "zkp_funding, response = spend_p2pkh(\n",
    "    txs=bsv_funding_tx,\n",
    "    indices=bsv_funding_ixs,\n",
    "    outputs=outputs,\n",
    "    index_output=1,\n",
    "    public_keys=[bsv_pub_key,bsv_pub_key],\n",
    "    fee_rate=10,\n",
    "    network=connection\n",
    ")\n",
    "\n",
    "bsv_zkp_funding_id = zkp_funding.id()\n",
    "token_zkp_funding_id = zkp_funding.id()\n",
    "\n",
    "print(f\"ZKP funding: {zkp_funding.id()}\")"
   ]
  },
  {
   "cell_type": "code",
   "execution_count": null,
   "id": "5885d56f-1729-4a07-8651-9f97df0c3c76",
   "metadata": {},
   "outputs": [],
   "source": [
    "genesis_txid = genesis_tx.id()\n",
    "print(f\"Genesis txid: {genesis_tx.id()}\")\n",
    "\n",
    "bsv_zkp_funding = zkp_funding\n",
    "bsv_zkp_funding_ix = 0\n",
    "bsv_zkp_funding_id = zkp_funding.id()\n",
    "\n",
    "token_zkp_funding = zkp_funding\n",
    "token_zkp_funding_ix = 1\n",
    "token_zkp_funding_id = zkp_funding.id()\n",
    "\n",
    "print(f\"ZKP funding: {zkp_funding.id()}\")"
   ]
  },
  {
   "cell_type": "markdown",
   "id": "ff011cd5-3c66-44b4-93fc-138b607d6363",
   "metadata": {},
   "source": [
    "### Initiate transfers"
   ]
  },
  {
   "cell_type": "markdown",
   "id": "6b1079c5-c417-46f2-996b-d338584aa24f",
   "metadata": {
    "jp-MarkdownHeadingCollapsed": true
   },
   "source": [
    "#### Transfer genesis\n",
    "\n",
    "First of all, we transfer the genesis. In this case, we don't need any zk-verifier, so we simply execute the swap."
   ]
  },
  {
   "cell_type": "code",
   "execution_count": null,
   "id": "4b47ce63-5e5d-4fa5-ae9e-b3fe11e43485",
   "metadata": {},
   "outputs": [],
   "source": [
    "# No need for a zk-verifier to transfer the genesis\n",
    "swap_tx, response = execute_swap(\n",
    "    token_txid=genesis_txid,\n",
    "    bsv_txid=genesis_txid,\n",
    "    bsv_index=1,\n",
    "    token_pub_key=token_pub_key,\n",
    "    bsv_pub_key=bsv_pub_key,\n",
    "    network=connection,\n",
    ")\n",
    "\n",
    "assert response.status_code == 200, f\"Swap failed, error is: {response.content}\"\n",
    "\n",
    "latest_transfer_txid = swap_tx.id()\n",
    "latest_transfer_tx = swap_tx\n",
    "\n",
    "print(f\"Latest transfer txid: {latest_transfer_txid}\")"
   ]
  },
  {
   "cell_type": "markdown",
   "id": "0ee20f4f",
   "metadata": {},
   "source": [
    "Now we exchange the roles of `token_pub_key` and `bsv_pub_key`."
   ]
  },
  {
   "cell_type": "code",
   "execution_count": null,
   "id": "8b9a41f5-5de0-46eb-9fe2-40217db462d4",
   "metadata": {},
   "outputs": [],
   "source": [
    "token_pub_key, bsv_pub_key = bsv_pub_key, token_pub_key\n",
    "bsv_index = 1\n",
    "\n",
    "bsv_zkp_funding, token_zkp_funding = token_zkp_funding, bsv_zkp_funding\n",
    "bsv_zkp_funding_ix, token_zkp_funding_ix = token_zkp_funding_ix, bsv_zkp_funding_ix"
   ]
  },
  {
   "cell_type": "markdown",
   "id": "05cbf018",
   "metadata": {},
   "source": [
    "Execute the cell below to get the txid of the latest transaction containing the NFT."
   ]
  },
  {
   "cell_type": "code",
   "execution_count": null,
   "id": "42414679-4dd8-40fc-9ced-2ac280487970",
   "metadata": {},
   "outputs": [],
   "source": [
    "latest_transfer_tx.serialize().hex()"
   ]
  },
  {
   "cell_type": "markdown",
   "id": "3e0dfac3-9afa-4268-9540-a4ca8a9e00c5",
   "metadata": {
    "jp-MarkdownHeadingCollapsed": true
   },
   "source": [
    "#### Transfer token\n",
    "\n",
    "Now we transfer the token again. To create the zk-verifier below, we need to process the input to the PCD. Follow the steps below:\n",
    "\n",
    "- Copy `genesis_txid` into `./configs/config_base/prove.toml` both as `genesis_txid` and as `outpoint_txid`\n",
    "- Generate a proof for the base case (transfer of the genesis). The command is (run from `nft_proof_system`, see also the README for the Rust crate for more information)\n",
    "\n",
    "    `cargo run --release -- --prove --file ./configs/config_base/prove.toml`\n",
    "- Copy `genesis_txid` into `./configs/config_rec_1/prove.toml`\n",
    "- Copy `latest_transfer_txid` as `outpoint_txid` into `./configs/config_rec_1/prove.toml`\n",
    "- Copy `latest_transfer_tx` as `tx` into `./configs/config_rec_1/prove.toml`\n",
    "- Process the input by executing the command\n",
    "\n",
    "    `cargo run --release -- --process --file ./configs/config_rec_1/prove.toml`\n",
    "\n",
    "Then, execute the cell below to deploy the zk-verifier"
   ]
  },
  {
   "cell_type": "code",
   "execution_count": null,
   "id": "8636e947-cace-415d-9de2-ac007329de7d",
   "metadata": {},
   "outputs": [],
   "source": [
    "# Deploy zk-verifier\n",
    "bsv_zkp_funding, response = p2pk_to_groth16(\n",
    "    tx=bsv_zkp_funding,\n",
    "    index=bsv_zkp_funding_ix,\n",
    "    path_input=processed_input_path + \"proof_recursive_first_step_processed_input.bin\",\n",
    "    path_vk=vk_path,\n",
    "    public_key=bsv_pub_key,\n",
    "    fee_rate=20,\n",
    "    network=connection,\n",
    ")\n",
    "\n",
    "assert response.status_code == 200, f\"Swap failed, error is: {response.content}\"\n",
    "bsv_zkp_funding_ix = 1\n",
    "\n",
    "groth16_verifier = bsv_zkp_funding\n",
    "print(f\"ZKP verifier: {groth16_verifier.id()}\")"
   ]
  },
  {
   "cell_type": "markdown",
   "id": "4ec1c3bf",
   "metadata": {},
   "source": [
    "Now we generate a proof to deploy against the above verifier. We do so by executing the following command (see also the README in `nft_proof_system`):\n",
    "\n",
    "`cargo run --release -- --prove --file ./configs/config_rec_1/prove.toml`\n",
    "\n",
    "Then, execute the following cell to deploy the proof."
   ]
  },
  {
   "cell_type": "code",
   "execution_count": null,
   "id": "ccbf8154-41a1-4fb3-a421-94372fb6af8d",
   "metadata": {},
   "outputs": [],
   "source": [
    "# Deploy zk-proof\n",
    "token_zkp_funding, response = spend_zkp_to_output(\n",
    "    tx=groth16_verifier,\n",
    "    index=0,\n",
    "    funding_tx=token_zkp_funding,\n",
    "    funding_index=token_zkp_funding_ix,\n",
    "    path_proof=proof_path + \"proof_recursive_first_step.bin\",\n",
    "    path_input=processed_input_path + \"proof_recursive_first_step_processed_input.bin\",\n",
    "    path_vk=vk_path,\n",
    "    public_key=token_pub_key,\n",
    "    fee_rate=20,\n",
    "    network=connection,\n",
    ")\n",
    "\n",
    "assert response.status_code == 200, f\"Swap failed, error is: {response.content}\"\n",
    "token_zkp_funding_ix = 0\n",
    "\n",
    "groth16_proof = token_zkp_funding\n",
    "print(f\"ZKP proof: {groth16_proof.id()}\")"
   ]
  },
  {
   "cell_type": "markdown",
   "id": "59f1407d",
   "metadata": {},
   "source": [
    "Now that the proof has been validated by the miners, we can proceed to publish the transaction transferring the token."
   ]
  },
  {
   "cell_type": "code",
   "execution_count": null,
   "id": "638e5307-7958-45a5-b95e-7a9199de93a3",
   "metadata": {},
   "outputs": [],
   "source": [
    "# Execute swap\n",
    "swap_tx, response = execute_swap(\n",
    "    token_txid=latest_transfer_tx.id(),\n",
    "    bsv_txid=latest_transfer_tx.id(),\n",
    "    bsv_index=bsv_index,\n",
    "    token_pub_key=token_pub_key,\n",
    "    bsv_pub_key=bsv_pub_key,\n",
    "    network=connection,\n",
    ")\n",
    "\n",
    "assert response.status_code == 200, f\"Swap failed, error is: {response.content}\"\n",
    "\n",
    "latest_transfer_txid = swap_tx.id()\n",
    "latest_transfer_tx = swap_tx\n",
    "\n",
    "print(f\"Latest transfer txid: {latest_transfer_txid}\")"
   ]
  },
  {
   "cell_type": "markdown",
   "id": "1e83900d",
   "metadata": {},
   "source": [
    "Finally, we exchange again the roles of `token_pub_key` and `bsv_pub_key`."
   ]
  },
  {
   "cell_type": "code",
   "execution_count": null,
   "id": "4f0500c9-874c-4b22-a273-959859ac4b94",
   "metadata": {},
   "outputs": [],
   "source": [
    "token_pub_key, bsv_pub_key = bsv_pub_key, token_pub_key\n",
    "bsv_index = 1\n",
    "\n",
    "bsv_zkp_funding, token_zkp_funding = token_zkp_funding, bsv_zkp_funding\n",
    "bsv_zkp_funding_ix, token_zkp_funding_ix = token_zkp_funding_ix, bsv_zkp_funding_ix"
   ]
  },
  {
   "cell_type": "code",
   "execution_count": null,
   "id": "f241f00e-9ba1-4beb-afbc-3af2667d684e",
   "metadata": {},
   "outputs": [],
   "source": [
    "latest_transfer_tx.serialize().hex()"
   ]
  },
  {
   "cell_type": "markdown",
   "id": "a9006f14-1375-427a-99e8-db2b3196dd09",
   "metadata": {},
   "source": [
    "#### Transfer token\n",
    "\n",
    "To execute another swap, we proceed as in the previous case:\n",
    "\n",
    "- Copy `genesis_txid` into `./configs/config_rec_2/prove.toml`\n",
    "- Copy `latest_transfer_txid` as `outpoint_txid` into `./configs/config_rec_2/prove.toml`\n",
    "- Copy `latest_transfer_tx` as `tx` into `./configs/config_rec_2/prove.toml`\n",
    "- Process the input by executing the command `cargo run --release -- --process --file ./configs/config_rec_2/prove.toml`\n",
    "- Execute the cell below to deploy the zk-verifier"
   ]
  },
  {
   "cell_type": "code",
   "execution_count": null,
   "id": "349139b2-d34d-4708-bd4b-211af4fa5cf9",
   "metadata": {},
   "outputs": [],
   "source": [
    "# Deploy zk-verifier\n",
    "bsv_zkp_funding, response = p2pk_to_groth16(\n",
    "    tx=bsv_zkp_funding,\n",
    "    index=bsv_zkp_funding_ix,\n",
    "    path_input=processed_input_path + \"proof_recursive_second_step_processed_input.bin\",\n",
    "    path_vk=vk_path,\n",
    "    public_key=bsv_pub_key,\n",
    "    fee_rate=20,\n",
    "    network=connection,\n",
    ")\n",
    "\n",
    "assert response.status_code == 200, f\"Swap failed, error is: {response.content}\"\n",
    "bsv_zkp_funding_ix = 1\n",
    "\n",
    "groth16_verifier = bsv_zkp_funding\n",
    "print(f\"ZKP verifier: {groth16_verifier.id()}\")"
   ]
  },
  {
   "cell_type": "markdown",
   "id": "d9918ba3",
   "metadata": {},
   "source": [
    "Once again, we generate a proof to deploy against the above verifier. We do so by executing the following command:\n",
    "\n",
    "`cargo run --release -- --prove --file ./configs/config_rec_2/prove.toml`\n",
    "\n",
    "Then, execute the following cell to deploy the proof."
   ]
  },
  {
   "cell_type": "code",
   "execution_count": null,
   "id": "427e3c14-867c-4f4a-8459-6e3af9712b1a",
   "metadata": {},
   "outputs": [],
   "source": [
    "# Deploy zk-proof\n",
    "token_zkp_funding, response = spend_zkp_to_output(\n",
    "    tx=groth16_verifier,\n",
    "    index=0,\n",
    "    funding_tx=token_zkp_funding,\n",
    "    funding_index=token_zkp_funding_ix,\n",
    "    path_proof=proof_path + \"proof_recursive_second_step.bin\",\n",
    "    path_input=processed_input_path + \"proof_recursive_second_step_processed_input.bin\",\n",
    "    path_vk=vk_path,\n",
    "    public_key=token_pub_key,\n",
    "    fee_rate=20,\n",
    "    network=connection,\n",
    ")\n",
    "\n",
    "assert response.status_code == 200, f\"Swap failed, error is: {response.content}\"\n",
    "token_zkp_funding_ix = 0\n",
    "\n",
    "groth16_proof = token_zkp_funding\n",
    "print(f\"ZKP proof: {groth16_proof.id()}\")"
   ]
  },
  {
   "cell_type": "markdown",
   "id": "7757455b",
   "metadata": {},
   "source": [
    "Execute the swap"
   ]
  },
  {
   "cell_type": "code",
   "execution_count": null,
   "id": "0b97bbb5-5ddf-4704-8ef2-781dd596e305",
   "metadata": {},
   "outputs": [],
   "source": [
    "# Execute swap\n",
    "swap_tx, response = execute_swap(\n",
    "    token_txid=latest_transfer_tx.id(),\n",
    "    bsv_txid=latest_transfer_tx.id(),\n",
    "    bsv_index=bsv_index,\n",
    "    token_pub_key=token_pub_key,\n",
    "    bsv_pub_key=bsv_pub_key,\n",
    "    network=connection,\n",
    ")\n",
    "\n",
    "assert response.status_code == 200, f\"Swap failed, error is: {response.content}\"\n",
    "\n",
    "latest_transfer_txid = swap_tx.id()\n",
    "latest_transfer_tx = swap_tx\n",
    "\n",
    "print(f\"Latest transfer txid: {latest_transfer_txid}\")"
   ]
  },
  {
   "cell_type": "markdown",
   "id": "405a98c5",
   "metadata": {},
   "source": [
    "Swap the roles of `token_pub_key` and `bsv_pub_key`."
   ]
  },
  {
   "cell_type": "code",
   "execution_count": null,
   "id": "c9eb41ec-6ab2-44ca-8827-4cbf12d46d5f",
   "metadata": {},
   "outputs": [],
   "source": [
    "token_pub_key, bsv_pub_key = bsv_pub_key, token_pub_key\n",
    "bsv_index = 1\n",
    "\n",
    "bsv_zkp_funding, token_zkp_funding = token_zkp_funding, bsv_zkp_funding\n",
    "bsv_zkp_funding_ix, token_zkp_funding_ix = token_zkp_funding_ix, bsv_zkp_funding_ix"
   ]
  },
  {
   "cell_type": "code",
   "execution_count": null,
   "id": "52915ed5-966d-4e03-9bf1-f7bc365df75a",
   "metadata": {},
   "outputs": [],
   "source": [
    "latest_transfer_tx.serialize().hex()"
   ]
  },
  {
   "cell_type": "markdown",
   "id": "a65204f8-cb3b-4cbc-959a-ddbecaf7fd79",
   "metadata": {},
   "source": [
    "#### Transfer token"
   ]
  },
  {
   "cell_type": "code",
   "execution_count": null,
   "id": "59139720-b5e8-489e-a09f-b50fb24674c2",
   "metadata": {},
   "outputs": [],
   "source": [
    "# Deploy zk-verifier\n",
    "bsv_zkp_funding, response = p2pk_to_groth16(\n",
    "    tx=bsv_zkp_funding,\n",
    "    index=bsv_zkp_funding_ix,\n",
    "    path_input=processed_input_path + \"proof_recursive_third_step_processed_input.bin\",\n",
    "    path_vk=vk_path,\n",
    "    public_key=bsv_pub_key,\n",
    "    fee_rate=20,\n",
    "    network=connection,\n",
    ")\n",
    "\n",
    "assert response.status_code == 200, f\"Swap failed, error is: {response.content}\"\n",
    "bsv_zkp_funding_ix = 1\n",
    "\n",
    "groth16_verifier = bsv_zkp_funding\n",
    "print(f\"ZKP verifier: {groth16_verifier.id()}\")"
   ]
  },
  {
   "cell_type": "code",
   "execution_count": null,
   "id": "00d0ab5a-dfc6-44a6-bff1-f872fea15a9a",
   "metadata": {},
   "outputs": [],
   "source": [
    "# Deploy zk-proof\n",
    "token_zkp_funding, response = spend_zkp_to_output(\n",
    "    tx=groth16_verifier,\n",
    "    index=0,\n",
    "    funding_tx=token_zkp_funding,\n",
    "    funding_index=token_zkp_funding_ix,\n",
    "    path_proof=proof_path + \"proof_recursive_third_step.bin\",\n",
    "    path_input=processed_input_path + \"proof_recursive_third_step_processed_input.bin\",\n",
    "    path_vk=vk_path,\n",
    "    public_key=token_pub_key,\n",
    "    fee_rate=20,\n",
    "    network=connection,\n",
    ")\n",
    "\n",
    "assert response.status_code == 200, f\"Swap failed, error is: {response.content}\"\n",
    "token_zkp_funding_ix = 0\n",
    "\n",
    "groth16_proof = token_zkp_funding\n",
    "print(f\"ZKP proof: {groth16_proof.id()}\")"
   ]
  },
  {
   "cell_type": "code",
   "execution_count": null,
   "id": "721dc817-87dd-4de0-8919-ef7e979fdcc9",
   "metadata": {},
   "outputs": [],
   "source": [
    "# Execute swap\n",
    "swap_tx, response = execute_swap(\n",
    "    token_txid=latest_transfer_tx.id(),\n",
    "    bsv_txid=latest_transfer_tx.id(),\n",
    "    bsv_index=bsv_index,\n",
    "    token_pub_key=token_pub_key,\n",
    "    bsv_pub_key=bsv_pub_key,\n",
    "    network=connection,\n",
    ")\n",
    "\n",
    "assert response.status_code == 200, f\"Swap failed, error is: {response.content}\"\n",
    "\n",
    "latest_transfer_txid = swap_tx.id()\n",
    "latest_transfer_tx = swap_tx\n",
    "\n",
    "print(f\"Latest transfer txid: {latest_transfer_txid}\")"
   ]
  },
  {
   "cell_type": "code",
   "execution_count": null,
   "id": "305382a4-ee64-4ad6-b4ec-bad40a9b850a",
   "metadata": {},
   "outputs": [],
   "source": [
    "token_pub_key, bsv_pub_key = bsv_pub_key, token_pub_key\n",
    "bsv_index = 1\n",
    "\n",
    "bsv_zkp_funding, token_zkp_funding = token_zkp_funding, bsv_zkp_funding\n",
    "bsv_zkp_funding_ix, token_zkp_funding_ix = token_zkp_funding_ix, bsv_zkp_funding_ix"
   ]
  },
  {
   "cell_type": "code",
   "execution_count": null,
   "id": "d73beb3a-9125-4a90-aa07-7cd36a9934ec",
   "metadata": {},
   "outputs": [],
   "source": [
    "latest_transfer_tx.serialize().hex()"
   ]
  },
  {
   "cell_type": "markdown",
   "id": "95eec5c0-3d52-4c56-bc11-d8f844dec650",
   "metadata": {},
   "source": [
    "#### Transfer token"
   ]
  },
  {
   "cell_type": "code",
   "execution_count": null,
   "id": "05e22045-88b1-4704-b3e5-b237a3d84d2d",
   "metadata": {},
   "outputs": [],
   "source": [
    "# Deploy zk-verifier\n",
    "bsv_zkp_funding, response = p2pk_to_groth16(\n",
    "    tx=bsv_zkp_funding,\n",
    "    index=bsv_zkp_funding_ix,\n",
    "    path_input=processed_input_path + \"proof_recursive_fourth_step_processed_input.bin\",\n",
    "    path_vk=vk_path,\n",
    "    public_key=bsv_pub_key,\n",
    "    fee_rate=20,\n",
    "    network=connection,\n",
    ")\n",
    "\n",
    "assert response.status_code == 200, f\"Swap failed, error is: {response.content}\"\n",
    "bsv_zkp_funding_ix = 1\n",
    "\n",
    "groth16_verifier = bsv_zkp_funding\n",
    "print(f\"ZKP verifier: {groth16_verifier.id()}\")"
   ]
  },
  {
   "cell_type": "code",
   "execution_count": null,
   "id": "c8165f52-67aa-4126-8acd-83788237beb7",
   "metadata": {},
   "outputs": [],
   "source": [
    "# Deploy zk-proof\n",
    "token_zkp_funding, response = spend_zkp_to_output(\n",
    "    tx=groth16_verifier,\n",
    "    index=0,\n",
    "    funding_tx=token_zkp_funding,\n",
    "    funding_index=token_zkp_funding_ix,\n",
    "    path_proof=proof_path + \"proof_recursive_fourth_step.bin\",\n",
    "    path_input=processed_input_path + \"proof_recursive_fourth_step_processed_input.bin\",\n",
    "    path_vk=vk_path,\n",
    "    public_key=token_pub_key,\n",
    "    fee_rate=20,\n",
    "    network=connection,\n",
    ")\n",
    "\n",
    "assert response.status_code == 200, f\"Swap failed, error is: {response.content}\"\n",
    "token_zkp_funding_ix = 0\n",
    "\n",
    "groth16_proof = token_zkp_funding\n",
    "print(f\"ZKP proof: {groth16_proof.id()}\")"
   ]
  },
  {
   "cell_type": "code",
   "execution_count": null,
   "id": "38e42717-aac4-4117-8c1a-615538f68323",
   "metadata": {},
   "outputs": [],
   "source": [
    "# Execute swap\n",
    "swap_tx, response = execute_swap(\n",
    "    token_txid=latest_transfer_tx.id(),\n",
    "    bsv_txid=latest_transfer_tx.id(),\n",
    "    bsv_index=bsv_index,\n",
    "    token_pub_key=token_pub_key,\n",
    "    bsv_pub_key=bsv_pub_key,\n",
    "    network=connection,\n",
    ")\n",
    "\n",
    "assert response.status_code == 200, f\"Swap failed, error is: {response.content}\"\n",
    "\n",
    "latest_transfer_txid = swap_tx.id()\n",
    "latest_transfer_tx = swap_tx\n",
    "\n",
    "print(f\"Latest transfer txid: {latest_transfer_txid}\")"
   ]
  },
  {
   "cell_type": "code",
   "execution_count": null,
   "id": "5af5ccbe-3c49-433f-a1f7-dc07ef386e84",
   "metadata": {},
   "outputs": [],
   "source": [
    "token_pub_key, bsv_pub_key = bsv_pub_key, token_pub_key\n",
    "bsv_index = 1\n",
    "\n",
    "bsv_zkp_funding, token_zkp_funding = token_zkp_funding, bsv_zkp_funding\n",
    "bsv_zkp_funding_ix, token_zkp_funding_ix = token_zkp_funding_ix, bsv_zkp_funding_ix"
   ]
  },
  {
   "cell_type": "code",
   "execution_count": null,
   "id": "0ee7ad4f-a8ad-4c10-8525-141fbf180e1f",
   "metadata": {},
   "outputs": [],
   "source": [
    "latest_transfer_tx.serialize().hex()"
   ]
  },
  {
   "cell_type": "code",
   "execution_count": null,
   "id": "2fb84ecf-62fe-4409-b6bc-417526dd237d",
   "metadata": {},
   "outputs": [],
   "source": []
  }
 ],
 "metadata": {
  "kernelspec": {
   "display_name": "github_venv",
   "language": "python",
   "name": "github_venv"
  },
  "language_info": {
   "codemirror_mode": {
    "name": "ipython",
    "version": 3
   },
   "file_extension": ".py",
   "mimetype": "text/x-python",
   "name": "python",
   "nbconvert_exporter": "python",
   "pygments_lexer": "ipython3",
   "version": "3.13.2"
  },
  "widgets": {
   "application/vnd.jupyter.widget-state+json": {
    "state": {},
    "version_major": 2,
    "version_minor": 0
   }
  }
 },
 "nbformat": 4,
 "nbformat_minor": 5
}
